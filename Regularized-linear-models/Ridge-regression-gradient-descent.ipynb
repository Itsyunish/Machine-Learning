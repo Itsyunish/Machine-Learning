{
 "cells": [
  {
   "cell_type": "code",
   "execution_count": 1,
   "id": "cb198074",
   "metadata": {},
   "outputs": [],
   "source": [
    "from sklearn.datasets import load_diabetes\n",
    "from sklearn.metrics import r2_score\n",
    "import numpy as np"
   ]
  },
  {
   "cell_type": "code",
   "execution_count": 2,
   "id": "a6d19d0a",
   "metadata": {},
   "outputs": [],
   "source": [
    "X,y = load_diabetes(return_X_y=True)"
   ]
  },
  {
   "cell_type": "code",
   "execution_count": 3,
   "id": "3a38dbbb",
   "metadata": {},
   "outputs": [],
   "source": [
    "from sklearn.model_selection import train_test_split"
   ]
  },
  {
   "cell_type": "code",
   "execution_count": 4,
   "id": "ba09e746",
   "metadata": {},
   "outputs": [],
   "source": [
    "X_train,X_test,y_train,y_test = train_test_split(X,y,test_size=0.2,random_state=4)"
   ]
  },
  {
   "cell_type": "code",
   "execution_count": 5,
   "id": "b62f65af",
   "metadata": {},
   "outputs": [],
   "source": [
    "from sklearn.linear_model import SGDRegressor"
   ]
  },
  {
   "cell_type": "code",
   "execution_count": 6,
   "id": "8e73300b",
   "metadata": {},
   "outputs": [],
   "source": [
    "reg = SGDRegressor(penalty='l2',max_iter=500,eta0=0.1,learning_rate='constant',alpha=0.001)"
   ]
  },
  {
   "cell_type": "code",
   "execution_count": 7,
   "id": "b52cec2e",
   "metadata": {},
   "outputs": [
    {
     "name": "stdout",
     "output_type": "stream",
     "text": [
      "R2 score 0.4438139944619023\n",
      "[  51.06807591 -151.00312729  368.29346209  264.6086363    -4.38818982\n",
      "  -56.01247009 -170.05355899  140.68157842  330.56856847   95.00754971]\n",
      "[146.73489184]\n"
     ]
    }
   ],
   "source": [
    "reg.fit(X_train,y_train)\n",
    "\n",
    "y_pred = reg.predict(X_test)\n",
    "print(\"R2 score\",r2_score(y_test,y_pred))\n",
    "print(reg.coef_)\n",
    "print(reg.intercept_)"
   ]
  },
  {
   "cell_type": "code",
   "execution_count": 8,
   "id": "070ef9ea",
   "metadata": {},
   "outputs": [],
   "source": [
    "from sklearn.linear_model import Ridge\n",
    "\n",
    "reg = Ridge(alpha=0.001, max_iter=500,solver='sparse_cg')"
   ]
  },
  {
   "cell_type": "code",
   "execution_count": 9,
   "id": "2deb71db",
   "metadata": {},
   "outputs": [
    {
     "name": "stdout",
     "output_type": "stream",
     "text": [
      "R2 score 0.4625010162027918\n",
      "[  34.52192778 -290.84083871  482.40181675  368.06786931 -852.44872818\n",
      "  501.59160694  180.11115474  270.76334443  759.73534802   37.49135796]\n",
      "151.101985182554\n"
     ]
    }
   ],
   "source": [
    "reg.fit(X_train,y_train)\n",
    "\n",
    "y_pred = reg.predict(X_test)\n",
    "print(\"R2 score\",r2_score(y_test,y_pred))\n",
    "print(reg.coef_)\n",
    "print(reg.intercept_)"
   ]
  },
  {
   "cell_type": "code",
   "execution_count": 10,
   "id": "717a9b8a",
   "metadata": {},
   "outputs": [],
   "source": [
    "class MyRidgeGD:\n",
    "    \n",
    "    def __init__(self,epochs,learning_rate,alpha):\n",
    "        \n",
    "        self.learning_rate = learning_rate\n",
    "        self.epochs = epochs\n",
    "        self.alpha = alpha\n",
    "        self.coef_ = None\n",
    "        self.intercept_ = None\n",
    "        \n",
    "    def fit(self,X_train,y_train):\n",
    "        \n",
    "        self.coef_ = np.ones(X_train.shape[1])\n",
    "        self.intercept_ = 0\n",
    "        thetha = np.insert(self.coef_,0,self.intercept_)\n",
    "        \n",
    "        X_train = np.insert(X_train,0,1,axis=1)\n",
    "        \n",
    "        for i in range(self.epochs):\n",
    "            thetha_der = np.dot(X_train.T,X_train).dot(thetha) - np.dot(X_train.T,y_train) + self.alpha*thetha\n",
    "            thetha = thetha - self.learning_rate*thetha_der\n",
    "        \n",
    "        self.coef_ = thetha[1:]\n",
    "        self.intercept_ = thetha[0]\n",
    "    \n",
    "    def predict(self,X_test):\n",
    "        \n",
    "        return np.dot(X_test,self.coef_) + self.intercept_"
   ]
  },
  {
   "cell_type": "code",
   "execution_count": 11,
   "id": "9c62db74",
   "metadata": {},
   "outputs": [],
   "source": [
    "reg = MyRidgeGD(epochs=500,alpha=0.001,learning_rate=0.005)"
   ]
  },
  {
   "cell_type": "code",
   "execution_count": 12,
   "id": "35a68c68",
   "metadata": {},
   "outputs": [
    {
     "name": "stdout",
     "output_type": "stream",
     "text": [
      "R2 score 0.4738018280260915\n",
      "[  46.65050914 -221.3750037   452.12080647  325.54248128  -29.09464178\n",
      "  -96.47517735 -190.90017011  146.32900372  400.80267299   95.09048094]\n",
      "150.8697531671347\n"
     ]
    }
   ],
   "source": [
    "reg.fit(X_train,y_train)\n",
    "\n",
    "y_pred = reg.predict(X_test)\n",
    "print(\"R2 score\",r2_score(y_test,y_pred))\n",
    "print(reg.coef_)\n",
    "print(reg.intercept_)"
   ]
  },
  {
   "cell_type": "code",
   "execution_count": null,
   "id": "17946a34",
   "metadata": {},
   "outputs": [],
   "source": []
  },
  {
   "cell_type": "code",
   "execution_count": null,
   "id": "1c5d3837",
   "metadata": {},
   "outputs": [],
   "source": []
  },
  {
   "cell_type": "code",
   "execution_count": null,
   "id": "2af63664",
   "metadata": {},
   "outputs": [],
   "source": []
  }
 ],
 "metadata": {
  "kernelspec": {
   "display_name": "Python 3 (ipykernel)",
   "language": "python",
   "name": "python3"
  },
  "language_info": {
   "codemirror_mode": {
    "name": "ipython",
    "version": 3
   },
   "file_extension": ".py",
   "mimetype": "text/x-python",
   "name": "python",
   "nbconvert_exporter": "python",
   "pygments_lexer": "ipython3",
   "version": "3.11.7"
  }
 },
 "nbformat": 4,
 "nbformat_minor": 5
}
